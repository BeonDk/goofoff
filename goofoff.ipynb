{
 "cells": [
  {
   "cell_type": "code",
   "execution_count": 7,
   "id": "07584ce6",
   "metadata": {},
   "outputs": [
    {
     "name": "stdout",
     "output_type": "stream",
     "text": [
      "2022 3 3 12 14 16\n",
      "3\n"
     ]
    }
   ],
   "source": [
    "import datetime\n",
    "now = datetime.datetime.now()\n",
    "a = now.month\n",
    "print(now.year, now.month, now.day, now.hour, now.minute, now.second)\n",
    "print(a)\n",
    "# 2015 5 6 8 53 40"
   ]
  },
  {
   "cell_type": "code",
   "execution_count": 6,
   "id": "4711edc7",
   "metadata": {},
   "outputs": [
    {
     "name": "stdout",
     "output_type": "stream",
     "text": [
      "<title>NAVER</title>\n"
     ]
    }
   ],
   "source": [
    "from urllib.request import urlopen\n",
    "from bs4 import BeautifulSoup\n",
    "\n",
    "\n",
    "html = urlopen(\"http://www.naver.com\")\n",
    "bsObject = BeautifulSoup(html, \"html.parser\")\n",
    "\n",
    "print(bsObject.head.title)"
   ]
  },
  {
   "cell_type": "code",
   "execution_count": 5,
   "id": "103f41a0",
   "metadata": {},
   "outputs": [
    {
     "name": "stdout",
     "output_type": "stream",
     "text": [
      "nav51!\n"
     ]
    }
   ],
   "source": [
    "url = \"http://naver.com\"\n",
    "my_str = url.replace(\"http://\",\"\")\n",
    "my_str = my_str[:my_str.index(\".\")] # 슬라이싱 []는 필요한 문자를 가져오기 위하여 사용\n",
    "# print (my_str)\n",
    "password = my_str[:3] + str(len(my_str)) + str(my_str.count(\"e\")) + \"!\"\n",
    "print (password)"
   ]
  },
  {
   "cell_type": "code",
   "execution_count": 65,
   "id": "99ee90e1",
   "metadata": {},
   "outputs": [
    {
     "name": "stdout",
     "output_type": "stream",
     "text": [
      "16\n",
      "26\n"
     ]
    }
   ],
   "source": [
    "# 3-4 랜덤함수\n",
    "from random import *\n",
    "\n",
    "# print(random()) # 0.0 ~ 1.0 미만의 임의의 값 생성\n",
    "# print(random() * 10) # 0.0 ~ 10.0 미만의 임의의 값 생성\n",
    "# print(int(random() * 10)) # 0 ~ 10 미만의 정수형 값 생성\n",
    "# print(int(random() * 10)) # 0 ~ 10 미만의 정수형 값 생성\n",
    "# print(int(random() * 10)) # 0 ~ 10 미만의 정수형 값 생성\n",
    "# print(int(random() * 10)+1) # 1 ~ 10 이하의 임의의 값 생성\n",
    "\n",
    "# print(int(random() * 45)+1) # 1 ~ 45 이하의 임의의 값 생성\n",
    "# print(int(random() * 45)+1) # 1 ~ 45 이하의 임의의 값 생성\n",
    "# print(int(random() * 45)+1) # 1 ~ 45 이하의 임의의 값 생성\n",
    "# print(int(random() * 45)+1) # 1 ~ 45 이하의 임의의 값 생성\n",
    "# print(int(random() * 45)+1) # 1 ~ 45 이하의 임의의 값 생성\n",
    "# print(int(random() * 45)+1) # 1 ~ 45 이하의 임의의 값 생성\n",
    "\n",
    "print(randrange(1,46)) # 1 ~ 46 미만의 임의의 값 생성\n",
    "print(randint(1,45)) # 1 ~ 45 이하의 임의의 값 생성"
   ]
  },
  {
   "cell_type": "code",
   "execution_count": 8,
   "id": "81671834",
   "metadata": {
    "scrolled": true
   },
   "outputs": [
    {
     "name": "stdout",
     "output_type": "stream",
     "text": [
      "성별 : 1\n",
      "연 : 99\n",
      "월 : 01\n",
      "생년월일 : 990120\n",
      "뒤 7자리 :1234567\n",
      "뒤 7자리 (뒤에부터) : 1234567\n"
     ]
    }
   ],
   "source": [
    "# 4-2 문자 슬라이싱\n",
    "jumin = \"990120-1234567\"\n",
    "print (\"성별 : \" + jumin[7]) # []를 통해서 가지고 오고 싶은 값의 index를 지정해줌\n",
    "print (\"연 : \" + jumin[0:2])\n",
    "print (\"월 : \" + jumin[2:4])\n",
    "print (\"생년월일 : \" + jumin[:6]) # 처음부터 6직전까지\n",
    "print (\"뒤 7자리 :\" + jumin[7:]) # 7부터 끝까지\n",
    "print (\"뒤 7자리 (뒤에부터) : \" + jumin[-7:])\n"
   ]
  },
  {
   "cell_type": "code",
   "execution_count": 18,
   "id": "a11d193e",
   "metadata": {},
   "outputs": [
    {
     "name": "stdout",
     "output_type": "stream",
     "text": [
      "python is amazing\n",
      "True\n",
      "17\n",
      "Java is Amazing\n",
      "5\n",
      "15\n",
      "5\n",
      "나는 20살이며, 빨간색을 좋아해요.\n"
     ]
    }
   ],
   "source": [
    "# 4-3 문자열처리 함수, 문자열 index 위치\n",
    "\n",
    "python = \"Python is Amazing\"\n",
    "print(python.lower())\n",
    "print(python[0].isupper())\n",
    "print(len(python))\n",
    "print(python.replace(\"Python\",\"Java\"))\n",
    "index = python.index(\"n\")\n",
    "print(index)\n",
    "index = python.index(\"n\", index +1)\n",
    "print(index)\n",
    "print(python.find(\"n\")) # Shift + Tab 누르면 함수 도움말 나옴, find에서는 오류가 발생해도 다음 코드 진행함\n"
   ]
  },
  {
   "cell_type": "code",
   "execution_count": 76,
   "id": "690b5b4d",
   "metadata": {},
   "outputs": [
    {
     "name": "stdout",
     "output_type": "stream",
     "text": [
      "나는 파란색과 노란색을 좋아해요.\n",
      "나는 파란색과 노란색을 좋아해요.\n",
      "나는 노란색과 파란색을 좋아해요.\n",
      "나는 20살이며, 빨간색을 좋아해요.\n",
      "나는 20살이며, 빨간색을 좋아해요.\n"
     ]
    }
   ],
   "source": [
    "# 4-4 문자열 포맷\n",
    "\n",
    "# 방법1\n",
    "# print(\"나는 %d살입니다.\" % 20) # % 뒤에 있는 값은 %의 위치의 정수값으로 돌려줌\n",
    "# print(\"나는 %s을 좋아해요.\" % \"Python\") # 문자열을 string 값으로 돌려줌\n",
    "# print(\"Apple은 %c로 시작해요.\" % \"A\") # % 뒤의 한 글자만 받아옴\n",
    "# %s로 쓰면 모든 문장으로 반환할 수 있음\n",
    "print(\"나는 %s색과 %s색을 좋아해요.\" % (\"파란\", \"노란\"))\n",
    "\n",
    "# 방법2 format 함수를 통해서 {}의 값을 입력해준다\n",
    "print(\"나는 {}색과 {}색을 좋아해요.\".format(\"파란\", \"노란\"))\n",
    "print(\"나는 {1}색과 {0}색을 좋아해요.\".format(\"파란\", \"노란\")) # 이 경우 순번으로 참조함\n",
    "print(\"나는 {age}살이며, {color}색을 좋아해요.\".format(age = 20, color = \"빨간\"))\n",
    "age = 20\n",
    "color = \"빨간\"\n",
    "print(f\"나는 {age}살이며, {color}색을 좋아해요.\")"
   ]
  },
  {
   "cell_type": "code",
   "execution_count": 5,
   "id": "6288dbd1",
   "metadata": {
    "scrolled": true
   },
   "outputs": [
    {
     "name": "stdout",
     "output_type": "stream",
     "text": [
      "초코\n",
      "dict_items([('A-3', '초코'), ('B-3', '밀크')])\n"
     ]
    }
   ],
   "source": [
    "cabinet = {\"A-3\":\"초코\", \"B-3\":\"밀크\"}\n",
    "print(cabinet[\"A-3\"])\n",
    "print(cabinet.items())"
   ]
  },
  {
   "cell_type": "code",
   "execution_count": 68,
   "id": "b422a58b",
   "metadata": {},
   "outputs": [
    {
     "name": "stdout",
     "output_type": "stream",
     "text": [
      "03\n"
     ]
    }
   ],
   "source": [
    "# 실습1 슬라이싱을 이용한 FC number 따오기\n",
    "a = \"SIOP03\"\n",
    "a = a[-2:]\n",
    "print(a)"
   ]
  },
  {
   "cell_type": "code",
   "execution_count": 77,
   "id": "1b5783b3",
   "metadata": {},
   "outputs": [
    {
     "name": "stdout",
     "output_type": "stream",
     "text": [
      "파이썬은 \n",
      "재밌다\n"
     ]
    }
   ],
   "source": [
    "# 4-5 탈출문자\n",
    "#   \\n 줄바꿈\n",
    "print(\"파이썬은 \\n재밌다\")\n",
    "\n",
    "#  큰 따옴표, 작은 따옴표를 그대로 출력하게 하기 위해서는 각 따옴표 앞에 \\ 추가\n",
    "#  /r : 커서를 맨 앞으로 이동해서 나머지 출력\n",
    "#  /b : 백스페이스\n",
    "#  /t : 탭 키"
   ]
  },
  {
   "cell_type": "code",
   "execution_count": 2,
   "id": "3fae0eb8",
   "metadata": {},
   "outputs": [
    {
     "name": "stdout",
     "output_type": "stream",
     "text": [
      "오늘 날씨는 어때요100\n",
      "너무 더워요. 나가지 마세요\n"
     ]
    }
   ],
   "source": [
    "# 6-1 if문\n",
    "# weather = input(\"오늘 날씨는 어때요\")\n",
    "# if weather == \"비\" or weather == \"눈\":\n",
    "#     print(\"우산을 챙기세요\")\n",
    "# elif weather == \"미세먼지\":\n",
    "#     print(\"마스크를 챙기세요\")\n",
    "# else:\n",
    "#     print(\"오늘은 준비물이 필요없어요\")\n",
    "\n",
    "temp = int(input(\"오늘 날씨는 어때요\")) # input 함수는 유저가 입력을 할 수 있게 하는 함수\n",
    "if temp >= 30:\n",
    "    print(\"너무 더워요. 나가지 마세요\")\n",
    "elif 10<= temp and temp <30:\n",
    "    print(\"괜찮은 날씨에요\")\n",
    "elif 0 <= temp and temp <10:\n",
    "    print(\"외투를 챙기세요\")\n",
    "else:\n",
    "    print(\"너무 추워요. 나가지 마세요.\")"
   ]
  },
  {
   "cell_type": "code",
   "execution_count": 6,
   "id": "a8a05ece",
   "metadata": {
    "scrolled": false
   },
   "outputs": [
    {
     "name": "stdout",
     "output_type": "stream",
     "text": [
      "아이언맨님 커피가 준비되었습니다.\n",
      "토르님 커피가 준비되었습니다.\n",
      "아이엠그루트님 커피가 준비되었습니다.\n"
     ]
    }
   ],
   "source": [
    "#  6-2 for문\n",
    "# print(\"대기번호 : 1\")\n",
    "# print(\"대기번호 : 2\")\n",
    "# print(\"대기번호 : 3\")\n",
    "# print(\"대기번호 : 4\")\n",
    "# for waiting_no in range(5): # Range (1,6)으로 하면 1부터 5까지 숫자가 나옴\n",
    "#     print(\"대기번호 : {0}\".format(waiting_no))\n",
    "\n",
    "starbucks = [\"아이언맨\", \"토르\", \"아이엠그루트\" ]\n",
    "for customer in starbucks: # starbucks에 들어가있는 값을 customer에 하나씩 넣어줌\n",
    "    print(\"{0}님 커피가 준비되었습니다.\".format(customer))"
   ]
  },
  {
   "cell_type": "code",
   "execution_count": 10,
   "id": "3e8ccad8",
   "metadata": {},
   "outputs": [
    {
     "name": "stdout",
     "output_type": "stream",
     "text": [
      "토르, 커피가 준비되었습니다\n",
      "이름이 어떻게 되세요?아이언맨\n",
      "토르, 커피가 준비되었습니다\n",
      "이름이 어떻게 되세요?토르\n"
     ]
    }
   ],
   "source": [
    "# 6-3 While문\n",
    "# customer = \"토르\"\n",
    "# index = 5\n",
    "# while index >= 1: # 어떤 조건이 만족할때까지 반복\n",
    "#     print(\"{0} 손님 커피가 준비되었습니다. {1}번 남았어요.\".format(customer,index))\n",
    "#     index -= 1\n",
    "#     if index == 0:\n",
    "#         print(\"커피는 폐기처분 되었습니다.\")\n",
    "        \n",
    "customer = \"토르\"\n",
    "person = \"Unknown\"\n",
    "# while true: 무한루프\n",
    "while person != customer: # != 는 같지 않은 값\n",
    "    print(\"{0}, 커피가 준비되었습니다\".format(customer))\n",
    "    person = input (\"이름이 어떻게 되세요?\")\n",
    "    "
   ]
  },
  {
   "cell_type": "code",
   "execution_count": 10,
   "id": "5116e339",
   "metadata": {},
   "outputs": [
    {
     "name": "stdout",
     "output_type": "stream",
     "text": [
      "1, 책 읽어\n",
      "3, 책 읽어\n",
      "4, 책 읽어\n",
      "6, 책 읽어\n",
      "오늘 수업여기까지. [7]\n",
      "have a good day\n"
     ]
    }
   ],
   "source": [
    "# 6-4 continue & breatk문\n",
    "absent = [2,5] # 결석\n",
    "no_book = [7] # 책 안가져옴\n",
    "for student in range (1,11):\n",
    "    if student in absent:\n",
    "        continue\n",
    "    elif student in no_book:\n",
    "        print(\"오늘 수업여기까지. {0}\".format(no_book))\n",
    "        break\n",
    "    print(\"{0}, 책 읽어\".format(student))\n",
    "print(\"have a good day\")\n",
    "    "
   ]
  },
  {
   "cell_type": "code",
   "execution_count": 15,
   "id": "613e08aa",
   "metadata": {},
   "outputs": [
    {
     "name": "stdout",
     "output_type": "stream",
     "text": [
      "[8, 4, 10]\n"
     ]
    }
   ],
   "source": [
    "# 6-5 한줄 for 문\n",
    "# 출석번호 1,2,3,4... 앞에 100을 붙이기 : 101, 102, 103...\n",
    "# students = [1,2,3,4,5]\n",
    "# print(students)\n",
    "# students = [i+100 for i in students] # students 값에 1+100을 1,2,3,4,5를 반복하여 넣어서 리스트 재구성\n",
    "\n",
    "# 학생 이름 길이로 변환\n",
    "students = [\"iron man\", \"thor\", \"I am groot\"]\n",
    "students = [len(i) for i in students]\n",
    "print(students)"
   ]
  },
  {
   "cell_type": "code",
   "execution_count": 172,
   "id": "30d45d7e",
   "metadata": {},
   "outputs": [
    {
     "name": "stdout",
     "output_type": "stream",
     "text": [
      "[ ] 1번째 손님 (소요시간 : 32분)\n",
      "[ ] 2번째 손님 (소요시간 : 23분)\n",
      "[ ] 3번째 손님 (소요시간 : 42분)\n",
      "[ ] 4번째 손님 (소요시간 : 50분)\n",
      "[ ] 5번째 손님 (소요시간 : 26분)\n",
      "[ ] 6번째 손님 (소요시간 : 28분)\n",
      "[ ] 7번째 손님 (소요시간 : 19분)\n",
      "[ ] 8번째 손님 (소요시간 : 45분)\n",
      "[ ] 9번째 손님 (소요시간 : 42분)\n",
      "[ ] 10번째 손님 (소요시간 : 48분)\n",
      "[ ] 11번째 손님 (소요시간 : 24분)\n",
      "[O] 12번째 손님 (소요시간 : 13분)\n",
      "[ ] 13번째 손님 (소요시간 : 47분)\n",
      "[ ] 14번째 손님 (소요시간 : 18분)\n",
      "[O] 15번째 손님 (소요시간 : 9분)\n",
      "[ ] 16번째 손님 (소요시간 : 23분)\n",
      "[O] 17번째 손님 (소요시간 : 11분)\n",
      "[ ] 18번째 손님 (소요시간 : 36분)\n",
      "[ ] 19번째 손님 (소요시간 : 18분)\n",
      "[ ] 20번째 손님 (소요시간 : 45분)\n",
      "[O] 21번째 손님 (소요시간 : 13분)\n",
      "[ ] 22번째 손님 (소요시간 : 34분)\n",
      "[ ] 23번째 손님 (소요시간 : 36분)\n",
      "[ ] 24번째 손님 (소요시간 : 41분)\n",
      "[ ] 25번째 손님 (소요시간 : 22분)\n",
      "[ ] 26번째 손님 (소요시간 : 39분)\n",
      "[ ] 27번째 손님 (소요시간 : 32분)\n",
      "[ ] 28번째 손님 (소요시간 : 46분)\n",
      "[ ] 29번째 손님 (소요시간 : 36분)\n",
      "[ ] 30번째 손님 (소요시간 : 25분)\n",
      "[ ] 31번째 손님 (소요시간 : 43분)\n",
      "[ ] 32번째 손님 (소요시간 : 43분)\n",
      "[ ] 33번째 손님 (소요시간 : 41분)\n",
      "[ ] 34번째 손님 (소요시간 : 48분)\n",
      "[ ] 35번째 손님 (소요시간 : 41분)\n",
      "[ ] 36번째 손님 (소요시간 : 32분)\n",
      "[ ] 37번째 손님 (소요시간 : 31분)\n",
      "[ ] 38번째 손님 (소요시간 : 27분)\n",
      "[ ] 39번째 손님 (소요시간 : 37분)\n",
      "[ ] 40번째 손님 (소요시간 : 35분)\n",
      "[O] 41번째 손님 (소요시간 : 8분)\n",
      "[O] 42번째 손님 (소요시간 : 15분)\n",
      "[ ] 43번째 손님 (소요시간 : 34분)\n",
      "[ ] 44번째 손님 (소요시간 : 19분)\n",
      "[ ] 45번째 손님 (소요시간 : 25분)\n",
      "[ ] 46번째 손님 (소요시간 : 29분)\n",
      "[O] 47번째 손님 (소요시간 : 9분)\n",
      "[ ] 48번째 손님 (소요시간 : 22분)\n",
      "[ ] 49번째 손님 (소요시간 : 41분)\n",
      "[ ] 50번째 손님 (소요시간 : 33분)\n",
      "총 승객수는 7명입니다.\n"
     ]
    }
   ],
   "source": [
    "# 6-6 퀴즈#5\n",
    "from random import *\n",
    "cnt = 0 # 총 탑승 승객수\n",
    "for i in range(1,51): # 1~50 회 반복(승객)\n",
    "    time = randrange(5,51) # 5분 ~ 50분 소요시간\n",
    "    if 5 <= time <= 15: # 5분 ~ 15분 이내의 손님, 탑승 승객수 증가 처리\n",
    "        print(\"[O] {0}번째 손님 (소요시간 : {1}분)\".format(i,time))\n",
    "        cnt += 1\n",
    "    else: # 매칭 실패\n",
    "        print(\"[ ] {0}번째 손님 (소요시간 : {1}분)\".format(i,time))\n",
    "print(\"총 승객수는 {0}명입니다.\".format(cnt))    "
   ]
  },
  {
   "cell_type": "code",
   "execution_count": 161,
   "id": "7a86e136",
   "metadata": {
    "scrolled": false
   },
   "outputs": [
    {
     "name": "stdout",
     "output_type": "stream",
     "text": [
      "22\n",
      "33이 선택되어 게임이 종료되었습니다.\n"
     ]
    }
   ],
   "source": [
    "# while문 랜덤으로 연습\n",
    "from random import *\n",
    "index = 6\n",
    "while index >= 1:\n",
    "    a = randrange(1,46)\n",
    "    if a == 33:\n",
    "        print(\"33이 선택되어 게임이 종료되었습니다.\")\n",
    "        break\n",
    "    print(a)\n",
    "    index -= 1 \n"
   ]
  },
  {
   "cell_type": "code",
   "execution_count": 184,
   "id": "7a2ce998",
   "metadata": {},
   "outputs": [
    {
     "name": "stdout",
     "output_type": "stream",
     "text": [
      "[32, 11, 20, 18, 41, 28]\n"
     ]
    }
   ],
   "source": [
    "from random import *\n",
    "number = []\n",
    "while len(number) <= 5:\n",
    "    a = randrange(1,45)\n",
    "    if a not in number:\n",
    "        number.append(a)\n",
    "print(number)"
   ]
  },
  {
   "cell_type": "code",
   "execution_count": 2,
   "id": "ab3cec24",
   "metadata": {
    "scrolled": true
   },
   "outputs": [
    {
     "name": "stdout",
     "output_type": "stream",
     "text": [
      "새로운 계좌가 생성되었습니다.\n"
     ]
    }
   ],
   "source": [
    "# 7-1 함수\n",
    "def open_account(): # 함수 정의하는 서식\n",
    "    print(\"새로운 계좌가 생성되었습니다.\") # 함수 안의 내용을 정의함\n",
    "open_account() # 마무리로 함수를 닫아줘야 함수 호출이 되어서 실행됨"
   ]
  },
  {
   "cell_type": "code",
   "execution_count": 36,
   "id": "d1ce4e6e",
   "metadata": {},
   "outputs": [
    {
     "name": "stdout",
     "output_type": "stream",
     "text": [
      "입금이 완료되었습니다. 잔액은 1000 원입니다.\n",
      "수수료는 100원이며, 잔액은 400원입니다.\n"
     ]
    }
   ],
   "source": [
    "# 7-2 전달값, 반환값\n",
    "def open_account(): # 함수 정의하는 서식\n",
    "    print(\"새로운 계좌가 생성되었습니다.\") # 함수 안의 내용을 정의함\n",
    "    \n",
    "def deposit(a, b):\n",
    "    print(\"입금이 완료되었습니다. 잔액은 {0} 원입니다.\".format(a + b))\n",
    "    return a + b\n",
    "\n",
    "def withdraw(c, d):\n",
    "    if c >= d:\n",
    "        print(\"출금이 완료되었습니다. 잔액은 {0}원입니다.\".format(c - d))\n",
    "        return c - d\n",
    "    else:\n",
    "        print(\"출금이 완료되지 않았습니다. 잔액은 {0}원입니다.\".format(c))\n",
    "        return c\n",
    "    \n",
    "def withdraw_night(e, f): # 저녁에 출금, 현재값 1000, 500원\n",
    "    cm = 100 # 수수료 100원\n",
    "    return cm, e - f - cm # 튜플로 여러개 값으로 반환, 현재값으로는 100,400원\n",
    "\n",
    "    \n",
    "    \n",
    "balance = 0 # 잔액\n",
    "balance = deposit(balance, 1000) # 여기서 deposit으로 정의한 함수를 실행시켜줌\n",
    "# print(balance)\n",
    "# balance = withdraw(balance, 500)\n",
    "# commission = withdraw_night(balance, 500) # 이렇게하면 withdraw_night에 정의된 함수는 2개 return 값이 있는데 현재 줄에는 하나의 값에만 돌려줘서 계산이 엉킴\n",
    "commission, balance = withdraw_night(balance, 500) # 이렇게 해야 정상값이 나옴\n",
    "print(\"수수료는 {0}원이며, 잔액은 {1}원입니다.\".format(commission, balance))"
   ]
  },
  {
   "cell_type": "code",
   "execution_count": 53,
   "id": "3172d2f7",
   "metadata": {
    "scrolled": true
   },
   "outputs": [
    {
     "name": "stdout",
     "output_type": "stream",
     "text": [
      "이름 : 유재석\t나이 : 17\t주 사용 언어: 영어\n",
      "이름 : 김태호\t나이 : 17\t주 사용 언어: 파이썬\n"
     ]
    }
   ],
   "source": [
    "# 7-3 함수 기본값\n",
    "# def profile(name, age, main_lang):\n",
    "#     print(\"이름 : {0}\\t나이 : {1}\\t주 사용 언어: {2}\" \\\n",
    "#           .format(name, age, main_lang))  # \\하고 엔터치면 같은 줄로 인식하게 함\n",
    "\n",
    "# profile(\"유재석\", 20, \"파이썬\")\n",
    "# profile(\"김태호\", 25, \"자바\")\n",
    "\n",
    "# 같은학교, 같은 학년, 같은 반, 같은 수업.\n",
    "def profile(name, age=17, main_lang=\"파이썬\"): # 함수 실행 시 값을 전달 받지 않을 경우에는 지정된 기본값 출력됨\n",
    "    print(\"이름 : {0}\\t나이 : {1}\\t주 사용 언어: {2}\" \\\n",
    "          .format(name, age, main_lang))  # \\하고 엔터치면 같은 줄로 인식하게 함\n",
    "\n",
    "profile(name = \"유재석\", main_lang = \"영어\") # 여기서 name값과 main_lang 값만 주고 싶다면?, 기본값 설정한 매개변수는 제일 마지막에 놓아야 함, 아니면 본 줄과 같이 표현 가능\n",
    "profile(\"김태호\")\n",
    "\n",
    "\n"
   ]
  },
  {
   "cell_type": "code",
   "execution_count": 54,
   "id": "dea70bb5",
   "metadata": {
    "scrolled": true
   },
   "outputs": [
    {
     "name": "stdout",
     "output_type": "stream",
     "text": [
      "유재석 20 파이썬\n",
      "김태호 25 자바\n"
     ]
    }
   ],
   "source": [
    "# 7-4 키워드값\n",
    "def profile(name, age, main_lang):\n",
    "    print(name, age, main_lang)\n",
    "    \n",
    "profile(name=\"유재석\", main_lang=\"파이썬\", age=20)\n",
    "profile(main_lang=\"자바\", age=25, name=\"김태호\")"
   ]
  },
  {
   "cell_type": "code",
   "execution_count": 75,
   "id": "01ee37ce",
   "metadata": {
    "scrolled": true
   },
   "outputs": [
    {
     "name": "stdout",
     "output_type": "stream",
     "text": [
      "이름 : 유재석\t나이 : 20\t Python Java C C+ C# 자바스크립트 \n",
      "이름 : 김태호\t나이 : 25\t 코틀링 스위프트 \n"
     ]
    }
   ],
   "source": [
    "# 7-5 가변인자를 이용한 함수 호출\n",
    "# def profile(name, age, lang1,lang2,lang3,lagn4,lang5):\n",
    "#     print(\"이름 : {0}\\t나이 : {1}\\t\".format(name,age), end=\" \") # , end=\" \"를 넣으면 다른 줄에 다음 실행을 나타나지 않고 같은줄에 표기\n",
    "#     print(lang1,lang2,lang3,lagn4,lang5)\n",
    "\n",
    "def profile(name, age, *language):\n",
    "    print(\"이름 : {0}\\t나이 : {1}\\t\".format(name,age), end=\" \") # , end=\" \"를 넣으면 다른 줄에 다음 실행을 나타나지 않고 같은줄에 표기\n",
    "    for lang in language:\n",
    "        print(lang, end=\" \") # end 따옴표 안의 space 갯수로 매개변수 간 간격 조정 가능\n",
    "    print() #줄바꿈\n",
    "\n",
    "\n",
    "profile(\"유재석\",20,\"Python\",\"Java\",\"C\",\"C+\",\"C#\", \"자바스크립트\")\n",
    "profile(\"김태호\",25,\"코틀링\",\"스위프트\") # 이럴때 만약 뒤 매개변수 수만큼 모두 만족하지 못하면 일일이 적어줘야 함"
   ]
  },
  {
   "cell_type": "code",
   "execution_count": 79,
   "id": "2e5d89aa",
   "metadata": {
    "scrolled": true
   },
   "outputs": [
    {
     "name": "stdout",
     "output_type": "stream",
     "text": [
      "전체 총 수 : 10\n",
      "[함수 내] 남은 총 :8\n",
      "남은 총 수 : 8\n"
     ]
    }
   ],
   "source": [
    "# 7-6 지역변수와 전역변수\n",
    "gun = 10\n",
    "\n",
    "def checkpoint(soldiers): # 경계근무\n",
    "    global gun # 전역 공간에 있는 gun 함수를 사용\n",
    "    gun = gun - soldiers\n",
    "    print(\"[함수 내] 남은 총 :{0}\".format(gun))\n",
    "\n",
    "def checkpoint_ret(gun, soldiers):\n",
    "    gun = gun - soldiers\n",
    "    print(\"[함수 내] 남은 총 :{0}\".format(gun))\n",
    "    return gun\n",
    "    \n",
    "print(\"전체 총 수 : {0}\".format(gun))\n",
    "# checkpoint(2) # 경계 근무 2명이 나감\n",
    "gun = checkpoint_ret(gun,2)\n",
    "print(\"남은 총 수 : {0}\".format(gun))"
   ]
  },
  {
   "cell_type": "code",
   "execution_count": 10,
   "id": "3fe98947",
   "metadata": {},
   "outputs": [
    {
     "name": "stdout",
     "output_type": "stream",
     "text": [
      "키 175cm 남자의 표준 체중은 67.38kg 입니다.\n"
     ]
    }
   ],
   "source": [
    "# 7-7 퀴즈#6\n",
    "# 표준 체중 : 각 개인의 키에 적당한 체중\n",
    "\n",
    "def std_weight(height, gender):\n",
    "    if gender == \"남자\":\n",
    "        return height * height * 22\n",
    "        \n",
    "    else:\n",
    "        return height * height * 21\n",
    "               \n",
    "\n",
    "height = 175\n",
    "gender = \"남자\"\n",
    "weight = round(std_weight(height / 100, gender),2) # 100을 나눈 이유는 m로 치환하기 위함\n",
    "print(\"키 {0}cm {1}의 표준 체중은 {2}kg 입니다.\".format(height, gender, weight))"
   ]
  },
  {
   "cell_type": "code",
   "execution_count": 48,
   "id": "7aa9b273",
   "metadata": {
    "scrolled": true
   },
   "outputs": [
    {
     "name": "stdout",
     "output_type": "stream",
     "text": [
      "아무 값이나 입력하세요 :아무\n",
      "입력 값은아무\n",
      "<class 'str'>\n"
     ]
    }
   ],
   "source": [
    "# 8-1 표준입출력\n",
    "# print(\"Python\", \"Java\", \"Javascript\", sep=\" vs \", end = \"?\") # separate는 각 매개변수 간의 입출력 구분방법\n",
    "# print(\"무엇이 더 재밌을까요?\")\n",
    "\n",
    "# import sys\n",
    "# print(\"Python\", \"Java\", file=sys.stdout) #표준으로 출력됨\n",
    "# print(\"Python\", \"Java\", file=sys.stderr) #에러로 출력됨\n",
    "\n",
    "# scores = {\"수학\":0, \"영어\":50, \"코딩\":100 } # 딕셔너리\n",
    "# for subject, score in scores.items(): #items는 키와 value를 쌍으로 튜플로 보내줌   \n",
    "#     print(subject.ljust(8), str(score).rjust(3), sep = \":\") # ljust 왼쪽정렬인데 8칸을 확보\n",
    "\n",
    "# for num in range(1,21):\n",
    "#     print(\"대기번호 : \" + str(num).zfill(3)) # zfill은 3만큼 빈공간을 확보하고 값이 없는 곳은 0으로 채우는 것\n",
    "\n",
    "answer = input(\"아무 값이나 입력하세요 :\")\n",
    "print(\"입력 값은\" + answer)\n",
    "print(type(answer))"
   ]
  },
  {
   "cell_type": "code",
   "execution_count": 28,
   "id": "aa3aba5f",
   "metadata": {
    "scrolled": true
   },
   "outputs": [
    {
     "name": "stdout",
     "output_type": "stream",
     "text": [
      "애써 미안한 표정 하지마\n",
      "싫어진 거잖아 이제 널 떠나줄게\n",
      "비겁해지는 널 보는 게 아파\n",
      "내가 갈게 널 보내줄게\n",
      "\n",
      "C:\\Users\\PHIL\\goofoff\n"
     ]
    }
   ],
   "source": [
    "# 연습구문. 파일 열기 쓰기 등\n",
    "s='''애써 미안한 표정 하지마\n",
    "싫어진 거잖아 이제 널 떠나줄게\n",
    "비겁해지는 널 보는 게 아파\n",
    "내가 갈게 널 보내줄게\n",
    "'''\n",
    "\n",
    "# f=open('end.txt','w') # 'end.txt' 쓰기모드로 열기\n",
    "# f.write(s) # s 문자열을 파일에 써줌\n",
    "# f.close() # 자원 반납\n",
    "\n",
    "f=open('end.txt')\n",
    "s2=f.read()\n",
    "print(s2)\n",
    "\n",
    "import os\n",
    "print(os.getcwd())"
   ]
  },
  {
   "cell_type": "code",
   "execution_count": 68,
   "id": "6b6af8ec",
   "metadata": {
    "scrolled": true
   },
   "outputs": [
    {
     "name": "stdout",
     "output_type": "stream",
     "text": [
      "  500\n",
      " +500\n",
      " -500\n",
      "_-500\n",
      "100,000,000\n",
      "-100,000,000\n",
      "^^^^^^^^^^^^^^^^^^^+10,000,000\n",
      "1.666667\n",
      "1.67\n"
     ]
    }
   ],
   "source": [
    "# 8-2 다양한 출력포맷\n",
    "\n",
    "# 빈자리는 빈공간으로 두고, 오른쪽 정렬을 하되, 총 10자리 공간을 확보\n",
    "print(\"{0: >5}\".format(500)) # 0: >5 사이에 있는 빈공간이 5만큼 확보한 공간을 빈칸으로 채운다는 의미\n",
    "# 양수일 때는 +로 표시, 음수일 땐 -로 표시\n",
    "print(\"{0: >+5}\".format(500))\n",
    "print(\"{0: >+5}\".format(-500))\n",
    "# 왼쪽 정렬하고, 빈칸으로 _로 채움\n",
    "print(\"{0:_>+5}\".format(-500))\n",
    "# 3자리 마다 콤마를 찍어주기\n",
    "print(\"{0:,}\".format(100000000))\n",
    "# 3자리 마다 콤마를 찍어주기, +_부호\n",
    "print(\"{0:+,}\".format(-100000000))\n",
    "# 3자리 마다 콤마를 찍어주기, 부호도 붙이고, 자릿수 확보\n",
    "# 빈자리는 ^로 채워주기\n",
    "print(\"{0:^>+30,}\".format(10000000))\n",
    "# 소수점 출력\n",
    "print(\"{0:f}\".format(5/3))\n",
    "# 소수점 특정자리수 까지만 출력\n",
    "print(\"{0:.2f}\".format(5/3))"
   ]
  },
  {
   "cell_type": "code",
   "execution_count": 96,
   "id": "9460ca07",
   "metadata": {},
   "outputs": [
    {
     "name": "stdout",
     "output_type": "stream",
     "text": [
      "수학: 0\n",
      "영어: 50\n",
      "과학 : 80\n",
      "코딩 : 100"
     ]
    }
   ],
   "source": [
    "# 8-3 파일입출력\n",
    "# score_file = open(\"score.txt\",\"w\", encoding=\"utf8\")\n",
    "# print(\"수학: 0\", file=score_file)\n",
    "# print(\"영어: 50\", file=score_file)\n",
    "# score_file.close()\n",
    "\n",
    "# score_file = open(\"score.txt\",\"a\", encoding=\"utf8\")\n",
    "# score_file.write(\"과학 : 80\")\n",
    "# score_file.write(\"\\n코딩 : 100\")\n",
    "# score_file.close()\n",
    "\n",
    "#파일 읽어오기\n",
    "# score_file = open(\"score.txt\",\"r\", encoding=\"utf8\")\n",
    "# print(score_file.read())\n",
    "# score_file.close()\n",
    "\n",
    "# score_file = open(\"score.txt\",\"r\", encoding=\"utf8\")\n",
    "# print(score_file.readline()) # 줄별로 읽기, 한 줄 읽고 커서는 다음 줄로 이동\n",
    "# print(score_file.readline())\n",
    "# print(score_file.readline(), end=\"\") # 엔터 취소\n",
    "# print(score_file.readline())\n",
    "# score_file.close()\n",
    "\n",
    "# score_file = open(\"score.txt\",\"r\", encoding=\"utf8\")\n",
    "# while True: # True 꼭 대문자로 써줘야 함, 무한루프임\n",
    "#     line = score_file.readline()\n",
    "#     if not line: # line에 내용이 없을 때 다음 실행\n",
    "#         break\n",
    "#     print(line, end = \"\")\n",
    "# score_file.close()\n",
    "\n",
    "score_file = open(\"score.txt\",\"r\", encoding=\"utf8\")\n",
    "lines = score_file.readlines() # list 형태로 저장\n",
    "for a in lines:\n",
    "    print(a, end=\"\")\n",
    "score_file.close()\n",
    "\n",
    "# score_file = open(\"score.txt\",\"r\", encoding=\"utf8\")\n",
    "# lines = score_file.readlines() # list 형태로 저장\n",
    "# print(lines)"
   ]
  },
  {
   "cell_type": "code",
   "execution_count": 100,
   "id": "d38c5e5c",
   "metadata": {},
   "outputs": [
    {
     "name": "stdout",
     "output_type": "stream",
     "text": [
      "{'이름': '박명수', '나이': 30, '취미': ['축구', '골프', '코딩']}\n"
     ]
    }
   ],
   "source": [
    "# 8-4 pickle\n",
    "import pickle\n",
    "# profile_file = open(\"profile.pickle\",\"wb\") # w는 쓰기목적 b는 binary. 피클에서는 항상 binary 타입 지정해줘야 함\n",
    "# a = {\"이름\" : \"박명수\", \"나이\":30, \"취미\": [\"축구\", \"골프\", \"코딩\"]}\n",
    "# print(a)\n",
    "# pickle.dump(a, profile_file) # profile에 있는 정보를 file에 저장\n",
    "# profile_file.close()\n",
    "\n",
    "profile_file = open(\"profile.pickle\",\"rb\") # r은 읽기\n",
    "a = pickle.load(profile_file) # 파일에 있는 정보를 profile에 불러오기\n",
    "print(a)"
   ]
  },
  {
   "cell_type": "code",
   "execution_count": 103,
   "id": "6028faaa",
   "metadata": {},
   "outputs": [
    {
     "name": "stdout",
     "output_type": "stream",
     "text": [
      "파이썬을 열심히 공부하고 있어요\n"
     ]
    }
   ],
   "source": [
    "# 8-5 with\n",
    "# import pickle\n",
    "# with open(\"profile.pickle\",\"rb\") as profile_file: # open 이하를 열어서 as 이하에 저장을 해둠\n",
    "#     print(pickle.load(profile_file))\n",
    "\n",
    "# with open(\"study.txt\",\"w\", encoding=\"utf8\") as a:\n",
    "#     a.write(\"파이썬을 열심히 공부하고 있어요\")\n",
    "\n",
    "with open(\"study.txt\",\"r\", encoding=\"utf8\") as a:\n",
    "    print(a.read())"
   ]
  },
  {
   "cell_type": "code",
   "execution_count": 114,
   "id": "833f1cc0",
   "metadata": {},
   "outputs": [],
   "source": [
    "# 8-6 퀴즈 #7\n",
    "\n",
    "# 내가 해서 거의 맞춘 것\n",
    "for i in range (1,51):\n",
    "    report = open(str(i)+\"주차.txt\",\"w\", encoding=\"utf8\")\n",
    "    report.write(\"- \" + str(i) + \"주차 주간 보고 - \")\n",
    "    report.write(\"\\n부서 :\")\n",
    "    report.write(\"\\n이름\")\n",
    "    report.write(\"\\n업무 요약\")\n",
    "    report.close()\n",
    "\n",
    "# for i in range(1,51):\n",
    "#     with open(str(i) + \"주차.txt\")"
   ]
  },
  {
   "cell_type": "code",
   "execution_count": 15,
   "id": "08dea678",
   "metadata": {
    "scrolled": true
   },
   "outputs": [],
   "source": [
    "# selenium 불러와서 Chrome 실행\n",
    "import selenium\n",
    "from selenium import webdriver\n",
    "from selenium.webdriver.common.keys import Keys\n",
    "\n",
    "driver = webdriver.Chrome()"
   ]
  },
  {
   "cell_type": "code",
   "execution_count": 16,
   "id": "3edcc41c",
   "metadata": {
    "scrolled": true
   },
   "outputs": [
    {
     "data": {
      "text/plain": [
       "'C:\\\\Users\\\\PHIL\\\\goofoff'"
      ]
     },
     "execution_count": 16,
     "metadata": {},
     "output_type": "execute_result"
    }
   ],
   "source": [
    "import os\n",
    "os.getcwd()"
   ]
  },
  {
   "cell_type": "code",
   "execution_count": null,
   "id": "07fdf9f9",
   "metadata": {},
   "outputs": [],
   "source": [
    "from selenium import webdriver\n",
    "\n",
    "# driver = webdriver.Chrome(driver_path, options=options)\n",
    "variable = driver.current_url\n",
    "\n",
    "print(variable)"
   ]
  },
  {
   "cell_type": "code",
   "execution_count": 6,
   "id": "b614fc15",
   "metadata": {
    "scrolled": false
   },
   "outputs": [
    {
     "name": "stdout",
     "output_type": "stream",
     "text": [
      "마린 유닛이 생성되었습니다.\n",
      "체력 40, 공격력 5\n",
      "\n",
      "탱크 유닛이 생성되었습니다.\n",
      "체력 150, 공격력 35\n",
      "\n",
      "탱크 유닛이 생성되었습니다.\n",
      "체력 150, 공격력 35\n",
      "\n",
      "마린 : 1시 방향으로 적군을 공격합니다. [공격력 5]\n",
      "탱크 : 1시 방향으로 적군을 공격합니다. [공격력 35]\n",
      "탱크 : 1시 방향으로 적군을 공격합니다. [공격력 35]\n"
     ]
    }
   ],
   "source": [
    "# 9-1 클래스\n",
    "# 마린 : 공격 유닛, 군인, 총을 쏠 수 있음\n",
    "name = \"마린\"\n",
    "hp = 40\n",
    "damage = 5\n",
    "\n",
    "print(\"{0} 유닛이 생성되었습니다.\".format(name))\n",
    "print(\"체력 {0}, 공격력 {1}\\n\".format(hp, damage))\n",
    "\n",
    "# 탱크\n",
    "tank_name = \"탱크\"\n",
    "tank_hp = 150\n",
    "tank_damage = 35\n",
    "\n",
    "print(\"{0} 유닛이 생성되었습니다.\".format(tank_name))\n",
    "print(\"체력 {0}, 공격력 {1}\\n\".format(tank_hp, tank_damage))\n",
    "\n",
    "tank2_name = \"탱크\"\n",
    "tank2_hp = 150\n",
    "tank2_damage = 35\n",
    "\n",
    "print(\"{0} 유닛이 생성되었습니다.\".format(tank2_name))\n",
    "print(\"체력 {0}, 공격력 {1}\\n\".format(tank2_hp, tank2_damage))\n",
    "\n",
    "\n",
    "\n",
    "def attack(name, location, damage):\n",
    "    print(\"{0} : {1} 방향으로 적군을 공격합니다. [공격력 {2}]\".format(\\\n",
    "                                                      name, location, damage))\n",
    "\n",
    "attack(name, \"1시\", damage)\n",
    "attack(tank_name, \"1시\", tank_damage)\n",
    "attack(tank2_name, \"1시\", tank2_damage)"
   ]
  },
  {
   "cell_type": "code",
   "execution_count": 8,
   "id": "3c1ed671",
   "metadata": {
    "scrolled": true
   },
   "outputs": [
    {
     "name": "stdout",
     "output_type": "stream",
     "text": [
      "마린유닛이 생성되었습니다.\n",
      "체력 40, 공격력 5\n",
      "마린유닛이 생성되었습니다.\n",
      "체력 40, 공격력 5\n",
      "탱크유닛이 생성되었습니다.\n",
      "체력 150, 공격력 35\n",
      "탱크유닛이 생성되었습니다.\n",
      "체력 30, 공격력 50\n"
     ]
    }
   ],
   "source": [
    "# 9-1 클래스\n",
    "class unit:\n",
    "    def __init__(self, name, hp=30, damage=50): # __init__ 파이썬의 생성자라고 부름, 기본값을 주어서 입력되지 않은 변수에는 기본값 반환\n",
    "        self.name = name\n",
    "        self.hp = hp\n",
    "        self.damage = damage\n",
    "        print(\"{0}유닛이 생성되었습니다.\".format(self.name))\n",
    "        print(\"체력 {0}, 공격력 {1}\".format(self.hp, self.damage))\n",
    "\n",
    "marine1 = unit(\"마린\", 40, 5) # 마린, 탱크 같이 class로 만들어지는 것을 객체라고 함\n",
    "marine2 = unit(\"마린\", 40, 5) # 마린, 탱크는 unit 클래스의 인스턴스라 함\n",
    "tank = unit(\"탱크\",150,35)\n",
    "tank2 = unit(\"탱크\")"
   ]
  },
  {
   "cell_type": "code",
   "execution_count": 13,
   "id": "47fa43f6",
   "metadata": {
    "scrolled": true
   },
   "outputs": [
    {
     "name": "stdout",
     "output_type": "stream",
     "text": [
      "레이스유닛이 생성되었습니다.\n",
      "체력 80, 공격력 5\n",
      "유닛이름 : 레이스, 공격력 : 5\n",
      "빼앗은 레이스유닛이 생성되었습니다.\n",
      "체력 80, 공격력 5\n",
      "빼앗은 레이스는 현재 클로킹 상태입니다.\n"
     ]
    }
   ],
   "source": [
    "# 9-3 멤버변수\n",
    "class unit:\n",
    "    def __init__(self, name, hp=30, damage=50): # __init__ 파이썬의 생성자라고 부름, 기본값을 주어서 입력되지 않은 변수에는 기본값 반환\n",
    "        self.name = name\n",
    "        self.hp = hp\n",
    "        self.damage = damage\n",
    "        print(\"{0}유닛이 생성되었습니다.\".format(self.name))\n",
    "        print(\"체력 {0}, 공격력 {1}\".format(self.hp, self.damage))\n",
    "        \n",
    "        \n",
    "# 레이스를 만들어보자\n",
    "wraith1 = unit(\"레이스\", 80, 5)\n",
    "print(\"유닛이름 : {0}, 공격력 : {1}\".format(wraith1.name, wraith1.damage)) # 멤버변수를 외부에서 읽어오는 법\n",
    "\n",
    "# 마인드 컨트롤\n",
    "wraith2 = unit(\"빼앗은 레이스\", 80, 5)\n",
    "wraith2.clocking = True # 클래스 외부에서 변수를 추가하는 것이 가능함\n",
    "\n",
    "if wraith2.clocking == True: \n",
    "    print(\"{0}는 현재 클로킹 상태입니다.\".format(wraith2.name))"
   ]
  },
  {
   "cell_type": "code",
   "execution_count": 2,
   "id": "798cfd6c",
   "metadata": {
    "scrolled": true
   },
   "outputs": [
    {
     "name": "stdout",
     "output_type": "stream",
     "text": [
      "파이어뱃 : 5시 방향으로 적군을 공격합니다. 공격력 [16]\n",
      "파이어뱃 : 25 데미지를 입었습니다.\n",
      "파이어뱃 : 현재 체력은 25 입니다.\n",
      "파이어뱃 : 30 데미지를 입었습니다.\n",
      "파이어뱃 : 현재 체력은 -5 입니다.\n",
      "파이어뱃 : 파괴되었습니다.\n"
     ]
    }
   ],
   "source": [
    "# 9-4 메소드\n",
    "class unit:\n",
    "    def __init__(self, name, hp=30, damage=50): # __init__ 파이썬의 생성자라고 부름, 기본값을 주어서 입력되지 않은 변수에는 기본값 반환\n",
    "        self.name = name\n",
    "        self.hp = hp\n",
    "        self.damage = damage\n",
    "        print(\"{0}유닛이 생성되었습니다.\".format(self.name))\n",
    "        print(\"체력 {0}, 공격력 {1}\".format(self.hp, self.damage))\n",
    "        \n",
    "class attackunit:\n",
    "    def __init__(self, name, hp=30, damage=50): # __init__ 파이썬의 생성자라고 부름, 기본값을 주어서 입력되지 않은 변수에는 기본값 반환\n",
    "        self.name = name\n",
    "        self.hp = hp\n",
    "        self.damage = damage\n",
    "                \n",
    "    def attack(self, location):\n",
    "        print(\"{0} : {1} 방향으로 적군을 공격합니다. 공격력 [{2}]\".format(self.name, location, self.damage))\n",
    "        \n",
    "    def damaged(self, damage):\n",
    "        print(\"{0} : {1} 데미지를 입었습니다.\".format(self.name, damage))\n",
    "        self.hp -= damage\n",
    "        print(\"{0} : 현재 체력은 {1} 입니다.\".format(self.name, self.hp))\n",
    "        if self.hp <= 0:\n",
    "            print(\"{0} : 파괴되었습니다.\".format(self.name))\n",
    "            \n",
    "# 파이어뱃 소환\n",
    "firebat1 = attackunit(\"파이어뱃\",50,16)\n",
    "firebat1.attack(\"5시\")\n",
    "\n",
    "# 공격 2번 받는다고 가정\n",
    "firebat1.damaged(25)\n",
    "firebat1.damaged(30)"
   ]
  },
  {
   "cell_type": "code",
   "execution_count": 2,
   "id": "bea60893",
   "metadata": {},
   "outputs": [
    {
     "name": "stdout",
     "output_type": "stream",
     "text": [
      "파이어뱃 : 5시 방향으로 적군을 공격합니다. 공격력 [16]\n"
     ]
    }
   ],
   "source": [
    "# 9-5 상속\n",
    "# 일반 유닛\n",
    "class unit:\n",
    "    def __init__(self, name, hp): # __init__ 파이썬의 생성자라고 부름, 기본값을 주어서 입력되지 않은 변수에는 기본값 반환\n",
    "        self.name = name #동일한 변수를 다른 class에서 상속받을 수 있음\n",
    "        self.hp = hp\n",
    "        \n",
    "# 공격 유닛\n",
    "class attackunit(unit):\n",
    "    def __init__(self, name, hp, damage): # __init__ 파이썬의 생성자라고 부름, 기본값을 주어서 입력되지 않은 변수에는 기본값 반환\n",
    "        unit.__init__(self, name, hp)\n",
    "        self.damage = damage\n",
    "                \n",
    "    def attack(self, location):\n",
    "        print(\"{0} : {1} 방향으로 적군을 공격합니다. 공격력 [{2}]\".format(self.name, location, self.damage))\n",
    "        \n",
    "    def damaged(self, damage):\n",
    "        print(\"{0} : {1} 데미지를 입었습니다.\".format(self.name, damage))\n",
    "        self.hp -= damage\n",
    "        print(\"{0} : 현재 체력은 {1} 입니다.\".format(self.name, self.hp))\n",
    "        if self.hp <= 0:\n",
    "            print(\"{0} : 파괴되었습니다.\".format(self.name))\n",
    "            \n",
    "# 파이어뱃 소환\n",
    "firebat1 = attackunit(\"파이어뱃\",50,16)\n",
    "firebat1.attack(\"5시\")\n",
    "\n",
    "# 공격 2번 받는다고 가정\n",
    "# firebat1.damaged(25)\n",
    "# firebat1.damaged(30)"
   ]
  },
  {
   "cell_type": "code",
   "execution_count": 5,
   "id": "3006361b",
   "metadata": {},
   "outputs": [
    {
     "name": "stdout",
     "output_type": "stream",
     "text": [
      "발키리 :3시 방향으로 날아갑니다. [속도 5]\n"
     ]
    }
   ],
   "source": [
    "# 일반 유닛\n",
    "class unit:\n",
    "    def __init__(self, name, hp): # __init__ 파이썬의 생성자라고 부름, 기본값을 주어서 입력되지 않은 변수에는 기본값 반환\n",
    "        self.name = name #동일한 변수를 다른 class에서 상속받을 수 있음\n",
    "        self.hp = hp\n",
    "        \n",
    "# 공격 유닛\n",
    "class attackunit(unit):\n",
    "    def __init__(self, name, hp, damage): # __init__ 파이썬의 생성자라고 부름, 기본값을 주어서 입력되지 않은 변수에는 기본값 반환\n",
    "        unit.__init__(self, name, hp) # unit 클래스에서 생성된 생성자를 호출\n",
    "        self.damage = damage\n",
    "                \n",
    "    def attack(self, location):\n",
    "        print(\"{0} : {1} 방향으로 적군을 공격합니다. 공격력 [{2}]\".format(self.name, location, self.damage))\n",
    "        \n",
    "    def damaged(self, damage):\n",
    "        print(\"{0} : {1} 데미지를 입었습니다.\".format(self.name, damage))\n",
    "        self.hp -= damage\n",
    "        print(\"{0} : 현재 체력은 {1} 입니다.\".format(self.name, self.hp))\n",
    "        if self.hp <= 0:\n",
    "            print(\"{0} : 파괴되었습니다.\".format(self.name))\n",
    "\n",
    "# 드랍쉽\n",
    "\n",
    "# 날 수 있는 클래스\n",
    "class flyable:\n",
    "    def __init__(self, flying_speed):\n",
    "        self.flying_speed = flying_speed\n",
    "        \n",
    "    def fly(self, name, location):\n",
    "        print(\"{0} :{1} 방향으로 날아갑니다. [속도 {2}]\".format(name, location, self.flying_speed))\n",
    "        \n",
    "# 공중 공격 유닛클래스\n",
    "class flyattackunit(attackunit, flyable):\n",
    "    def __init__(self, name, hp, damage, flying_speed):\n",
    "        attackunit.__init__(self, name, hp, damage)\n",
    "        flyable.__init__(self, flying_speed)\n",
    "\n",
    "# 발키리\n",
    "valkyrie = flyattackunit(\"발키리\", 200, 6, 5)\n",
    "valkyrie.fly(valkyrie.name, \"3시\")\n",
    "\n",
    "            \n",
    "            \n",
    "# # 파이어뱃 소환\n",
    "# firebat1 = attackunit(\"파이어뱃\",50,16)\n",
    "# firebat1.attack(\"5시\")\n",
    "\n",
    "# # 공격 2번 받는다고 가정\n",
    "# firebat1.damaged(25)\n",
    "# firebat1.damaged(30)"
   ]
  },
  {
   "cell_type": "code",
   "execution_count": 10,
   "id": "9ca6f7a2",
   "metadata": {},
   "outputs": [
    {
     "name": "stdout",
     "output_type": "stream",
     "text": [
      "[지상 유닛 이동]\n",
      "벌쳐 : 11시 방향으로 이동합니다.\n",
      "[공중 유닛 이동]\n",
      "배틀크루저 :5시 방향으로 날아갑니다. [속도 3]\n"
     ]
    }
   ],
   "source": [
    "# 9-7 메소드 오버라이딩, 자식 Class에서 정의한 메소드를 쓰고 싶을 때\n",
    "\n",
    "# 일반 유닛\n",
    "class unit:\n",
    "    def __init__(self, name, hp, speed): # __init__ 파이썬의 생성자라고 부름, 기본값을 주어서 입력되지 않은 변수에는 기본값 반환\n",
    "        self.name = name #동일한 변수를 다른 class에서 상속받을 수 있음\n",
    "        self.hp = hp\n",
    "        self.speed = speed\n",
    "\n",
    "    def move(self, location):\n",
    "        print(\"[지상 유닛 이동]\")\n",
    "        print(\"{0} : {1} 방향으로 이동합니다.\"\\\n",
    "            .format(self.name, location, self.speed))\n",
    "\n",
    "# 공격 유닛\n",
    "class attackunit(unit):\n",
    "    def __init__(self, name, hp, speed, damage): # __init__ 파이썬의 생성자라고 부름, 기본값을 주어서 입력되지 않은 변수에는 기본값 반환\n",
    "        unit.__init__(self, name, hp, speed) # unit 클래스에서 생성된 생성자를 호출\n",
    "        self.damage = damage\n",
    "                \n",
    "    def attack(self, location):\n",
    "        print(\"{0} : {1} 방향으로 적군을 공격합니다. 공격력 [{2}]\".format(self.name, location, self.damage))\n",
    "        \n",
    "    def damaged(self, damage):\n",
    "        print(\"{0} : {1} 데미지를 입었습니다.\".format(self.name, damage))\n",
    "        self.hp -= damage\n",
    "        print(\"{0} : 현재 체력은 {1} 입니다.\".format(self.name, self.hp))\n",
    "        if self.hp <= 0:\n",
    "            print(\"{0} : 파괴되었습니다.\".format(self.name))\n",
    "\n",
    "# 드랍쉽\n",
    "\n",
    "# 날 수 있는 클래스\n",
    "class flyable:\n",
    "    def __init__(self, flying_speed):\n",
    "        self.flying_speed = flying_speed\n",
    "        \n",
    "    def fly(self, name, location):\n",
    "        print(\"{0} :{1} 방향으로 날아갑니다. [속도 {2}]\".format(name, location, self.flying_speed))\n",
    "        \n",
    "# 공중 공격 유닛클래스\n",
    "class flyattackunit(attackunit, flyable):\n",
    "    def __init__(self, name, hp, damage, flying_speed):\n",
    "        attackunit.__init__(self, name, hp, 0, damage) # 지상 스피드 0\n",
    "        flyable.__init__(self, flying_speed)\n",
    "\n",
    "    def move(self, location):\n",
    "        print(\"[공중 유닛 이동]\")\n",
    "        self.fly(self.name, location)\n",
    "\n",
    "# 벌쳐 : 지상 유닛\n",
    "vulture = attackunit(\"벌쳐\", 80, 10, 20)\n",
    "\n",
    "# 배틀크루저\n",
    "battle = flyattackunit(\"배틀크루저\", 500, 25, 3)\n",
    "\n",
    "vulture.move(\"11시\")\n",
    "# battle.fly(battle.name, \"5시\")\n",
    "\n",
    "# 현재 문제는 지상유닛은 move를 써야하고 battle은 fly를 써야한다. 매번 연산자를 달리 줘야함.\n",
    "battle.move(\"5시\")\n",
    "\n"
   ]
  },
  {
   "cell_type": "code",
   "execution_count": 12,
   "id": "c5bbd7ab",
   "metadata": {},
   "outputs": [
    {
     "name": "stdout",
     "output_type": "stream",
     "text": [
      "[알림] 새로운 게임을 시작합니다.\n"
     ]
    }
   ],
   "source": [
    "# 9-8 Pass\n",
    "\n",
    "# 건물\n",
    "# 일반 유닛\n",
    "class unit:\n",
    "    def __init__(self, name, hp, speed): # __init__ 파이썬의 생성자라고 부름, 기본값을 주어서 입력되지 않은 변수에는 기본값 반환\n",
    "        self.name = name #동일한 변수를 다른 class에서 상속받을 수 있음\n",
    "        self.hp = hp\n",
    "        self.speed = speed\n",
    "\n",
    "    def move(self, location):\n",
    "        print(\"[지상 유닛 이동]\")\n",
    "        print(\"{0} : {1} 방향으로 이동합니다.\"\\\n",
    "            .format(self.name, location, self.speed))\n",
    "\n",
    "# 공격 유닛\n",
    "class attackunit(unit):\n",
    "    def __init__(self, name, hp, speed, damage): # __init__ 파이썬의 생성자라고 부름, 기본값을 주어서 입력되지 않은 변수에는 기본값 반환\n",
    "        unit.__init__(self, name, hp, speed) # unit 클래스에서 생성된 생성자를 호출\n",
    "        self.damage = damage\n",
    "                \n",
    "    def attack(self, location):\n",
    "        print(\"{0} : {1} 방향으로 적군을 공격합니다. 공격력 [{2}]\".format(self.name, location, self.damage))\n",
    "        \n",
    "    def damaged(self, damage):\n",
    "        print(\"{0} : {1} 데미지를 입었습니다.\".format(self.name, damage))\n",
    "        self.hp -= damage\n",
    "        print(\"{0} : 현재 체력은 {1} 입니다.\".format(self.name, self.hp))\n",
    "        if self.hp <= 0:\n",
    "            print(\"{0} : 파괴되었습니다.\".format(self.name))\n",
    "\n",
    "# 드랍쉽\n",
    "\n",
    "# 날 수 있는 클래스\n",
    "class flyable:\n",
    "    def __init__(self, flying_speed):\n",
    "        self.flying_speed = flying_speed\n",
    "        \n",
    "    def fly(self, name, location):\n",
    "        print(\"{0} :{1} 방향으로 날아갑니다. [속도 {2}]\".format(name, location, self.flying_speed))\n",
    "        \n",
    "# 공중 공격 유닛클래스\n",
    "class flyattackunit(attackunit, flyable):\n",
    "    def __init__(self, name, hp, damage, flying_speed):\n",
    "        attackunit.__init__(self, name, hp, 0, damage) # 지상 스피드 0\n",
    "        flyable.__init__(self, flying_speed)\n",
    "\n",
    "    def move(self, location):\n",
    "        print(\"[공중 유닛 이동]\")\n",
    "        self.fly(self.name, location)\n",
    "\n",
    "class buildingunit(unit):\n",
    "    def __init__(self, name, hp, location):\n",
    "        pass\n",
    "\n",
    "# 서플라이 디폿 : 건물, 1개 건물 == 8 유닛.\n",
    "supply_depot = buildingunit(\"서플라이 디폿\", 500, \"7시\")\n",
    "    \n",
    "def game_start():\n",
    "    print(\"[알림] 새로운 게임을 시작합니다.\")\n",
    "\n",
    "def game_over():\n",
    "    pass\n",
    "\n",
    "game_start()\n",
    "game_over()"
   ]
  },
  {
   "cell_type": "code",
   "execution_count": 19,
   "id": "a0a3e817",
   "metadata": {},
   "outputs": [
    {
     "name": "stdout",
     "output_type": "stream",
     "text": [
      "[알림] 새로운 게임을 시작합니다.\n",
      "[지상 유닛 이동]\n",
      "마린 : 1시 방향으로 이동합니다.\n",
      "[지상 유닛 이동]\n",
      "마린 : 1시 방향으로 이동합니다.\n",
      "[지상 유닛 이동]\n",
      "마린 : 1시 방향으로 이동합니다.\n",
      "[지상 유닛 이동]\n",
      "탱크 : 1시 방향으로 이동합니다.\n",
      "[지상 유닛 이동]\n",
      "탱크 : 1시 방향으로 이동합니다.\n",
      "[공중 유닛 이동]\n",
      "레이스 :1시 방향으로 날아갑니다. [속도 5]\n",
      "[알림] 탱크 시즈 모드 개발이 완료되었습니다.\n",
      "마린 : 스팀팩을 사용합니다. (체력 10 감소)\n",
      "마린 : 스팀팩을 사용합니다. (체력 10 감소)\n",
      "마린 : 스팀팩을 사용합니다. (체력 10 감소)\n",
      "탱크 : 시즈모드로 전환합니다.\n",
      "탱크 : 시즈모드로 전환합니다.\n",
      "레이스 : 클로킹 모드를  설정합니다.\n",
      "마린 : 1시 방향으로 적군을 공격합니다. 공격력 [5]\n",
      "마린 : 1시 방향으로 적군을 공격합니다. 공격력 [5]\n",
      "마린 : 1시 방향으로 적군을 공격합니다. 공격력 [5]\n",
      "탱크 : 1시 방향으로 적군을 공격합니다. 공격력 [70]\n",
      "탱크 : 1시 방향으로 적군을 공격합니다. 공격력 [70]\n",
      "레이스 : 1시 방향으로 적군을 공격합니다. 공격력 [20]\n",
      "마린 : 9 데미지를 입었습니다.\n",
      "마린 : 현재 체력은 21 입니다.\n",
      "마린 : 7 데미지를 입었습니다.\n",
      "마린 : 현재 체력은 23 입니다.\n",
      "마린 : 7 데미지를 입었습니다.\n",
      "마린 : 현재 체력은 23 입니다.\n",
      "탱크 : 16 데미지를 입었습니다.\n",
      "탱크 : 현재 체력은 134 입니다.\n",
      "탱크 : 9 데미지를 입었습니다.\n",
      "탱크 : 현재 체력은 141 입니다.\n",
      "레이스 : 14 데미지를 입었습니다.\n",
      "레이스 : 현재 체력은 66 입니다.\n",
      "Player : gg\n",
      "[Player] 님이 게임에서 퇴장하였습니다.\n"
     ]
    }
   ],
   "source": [
    "# 9-10 스타 전반전\n",
    "\n",
    "from random import *\n",
    "\n",
    "\n",
    "# 일반 유닛\n",
    "class unit:\n",
    "    def __init__(self, name, hp, speed): # __init__ 파이썬의 생성자라고 부름, 기본값을 주어서 입력되지 않은 변수에는 기본값 반환\n",
    "        self.name = name #동일한 변수를 다른 class에서 상속받을 수 있음\n",
    "        self.hp = hp\n",
    "        self.speed = speed\n",
    "\n",
    "    def move(self, location):\n",
    "        print(\"[지상 유닛 이동]\")\n",
    "        print(\"{0} : {1} 방향으로 이동합니다.\"\\\n",
    "            .format(self.name, location, self.speed))\n",
    "\n",
    "# 공격 유닛\n",
    "class attackunit(unit):\n",
    "    def __init__(self, name, hp, speed, damage): # __init__ 파이썬의 생성자라고 부름, 기본값을 주어서 입력되지 않은 변수에는 기본값 반환\n",
    "        unit.__init__(self, name, hp, speed) # unit 클래스에서 생성된 생성자를 호출\n",
    "        self.damage = damage\n",
    "                \n",
    "    def attack(self, location):\n",
    "        print(\"{0} : {1} 방향으로 적군을 공격합니다. 공격력 [{2}]\".format(self.name, location, self.damage))\n",
    "        \n",
    "    def damaged(self, damage):\n",
    "        print(\"{0} : {1} 데미지를 입었습니다.\".format(self.name, damage))\n",
    "        self.hp -= damage\n",
    "        print(\"{0} : 현재 체력은 {1} 입니다.\".format(self.name, self.hp))\n",
    "        if self.hp <= 0:\n",
    "            print(\"{0} : 파괴되었습니다.\".format(self.name))\n",
    "\n",
    "\n",
    "\n",
    "# 날 수 있는 클래스\n",
    "class flyable:\n",
    "    def __init__(self, flying_speed):\n",
    "        self.flying_speed = flying_speed\n",
    "        \n",
    "    def fly(self, name, location):\n",
    "        print(\"{0} :{1} 방향으로 날아갑니다. [속도 {2}]\".format(name, location, self.flying_speed))\n",
    "        \n",
    "# 공중 공격 유닛클래스\n",
    "class flyattackunit(attackunit, flyable):\n",
    "    def __init__(self, name, hp, damage, flying_speed):\n",
    "        attackunit.__init__(self, name, hp, 0, damage) # 지상 스피드 0\n",
    "        flyable.__init__(self, flying_speed)\n",
    "\n",
    "    def move(self, location):\n",
    "        print(\"[공중 유닛 이동]\")\n",
    "        self.fly(self.name, location)\n",
    "\n",
    "class buildingunit(unit):\n",
    "    def __init__(self, name, hp, location):\n",
    "        # unit.__init__(self, name, hp, 0) # 일반적으로 unit 클래스를 불러오는 방법\n",
    "        super().__init__(name, hp, 0) # 하나의 클래스를 상속할 때 초기화 해올 수 있음.\n",
    "        self.location = location\n",
    "        \n",
    "\n",
    "# 마린 클래스\n",
    "class marine(attackunit):\n",
    "    def __init__(self):\n",
    "        attackunit.__init__(self, \"마린\", 40, 1, 5)\n",
    "\n",
    "    # 스팀팩\n",
    "    def stimpack(self):\n",
    "        if self.hp > 10:\n",
    "            self.hp -= 10\n",
    "            print(\"{0} : 스팀팩을 사용합니다. (체력 10 감소)\".format(self.name))\n",
    "        else:\n",
    "            print(\"{0} : 체력이 부족하여 스팀팩을 사용하지 않습니다.\".format(self.name))\n",
    "\n",
    "# 탱크 클래스\n",
    "class tank(attackunit):\n",
    "    # 시즈모드\n",
    "    seize_developed = False\n",
    "    def __init__(self):\n",
    "        attackunit.__init__(self, \"탱크\", 150, 1, 35)\n",
    "        self.seize_mode = False\n",
    "\n",
    "    def set_seize_mode(self):\n",
    "        if tank.seize_developed == False:\n",
    "            return\n",
    "        \n",
    "        # 현재 시즈모드가 아닐 때 -> 시즈모드\n",
    "        if self.seize_mode == False:\n",
    "            print(\"{0} : 시즈모드로 전환합니다.\".format(self.name))\n",
    "            self.damage *= 2\n",
    "            self.seize_mode = True\n",
    "            \n",
    "        # 현재 시즈모드일때 -> 시즈모드 해제\n",
    "        else:\n",
    "            print(\"{0} : 시즈모드로 해제합니다.\".foramt(self.name))\n",
    "            self.damage /= 2\n",
    "            self.seize_mode = False\n",
    "\n",
    "# 레이스\n",
    "class wraith(flyattackunit):\n",
    "    def __init__(self):\n",
    "        flyattackunit.__init__(self, \"레이스\", 80, 20, 5)\n",
    "        self.clocked = False # 초기 클로킹 모드 해제상태, 처음부터 클로킹 가능\n",
    "\n",
    "    def clocking(self):\n",
    "        if self.clocked == True:\n",
    "            print(\"{0} : 클로킹 모드를 해제합니다.\".format(self.name))\n",
    "            self.clocked = False\n",
    "        else:\n",
    "            print(\"{0} : 클로킹 모드를  설정합니다.\".format(self.name))\n",
    "            self.clocked = True\n",
    "\n",
    "def game_start():\n",
    "    print(\"[알림] 새로운 게임을 시작합니다.\")\n",
    "\n",
    "def game_over():\n",
    "    print(\"Player : gg\")\n",
    "    print(\"[Player] 님이 게임에서 퇴장하였습니다.\")\n",
    "\n",
    "\n",
    "\n",
    "# 실제 게임 시작\n",
    "game_start()\n",
    "\n",
    "\n",
    "# 마린 3기 생성\n",
    "m1 = marine()\n",
    "m2 = marine()\n",
    "m3 = marine()\n",
    "\n",
    "# 탱크 2기 생성\n",
    "t1 = tank()\n",
    "t2 = tank()\n",
    "\n",
    "# 레이스 1기 생성\n",
    "w1 = wraith()\n",
    "\n",
    "# 유닛 일괄 관리 - attackunit 리스트\n",
    "attack_units = []\n",
    "attack_units.append(m1)\n",
    "attack_units.append(m2)\n",
    "attack_units.append(m3)\n",
    "attack_units.append(t1)\n",
    "attack_units.append(t2)\n",
    "attack_units.append(w1)\n",
    "\n",
    "# 전군이동\n",
    "for unit in attack_units:\n",
    "    unit.move(\"1시\")\n",
    "\n",
    "# 탱크 시즈모드 개발\n",
    "tank.seize_developed = True\n",
    "print(\"[알림] 탱크 시즈 모드 개발이 완료되었습니다.\")\n",
    "\n",
    "# 공격 모드 준비 (마린 : 스팀팩, 팅크 : 시즈모드, 레이스 : 클로킹)\n",
    "for unit in attack_units:\n",
    "    if isinstance(unit, marine):\n",
    "        unit.stimpack()\n",
    "    elif isinstance(unit, tank):\n",
    "        unit.set_seize_mode()\n",
    "    elif isinstance(unit, wraith):\n",
    "        unit.clocking()\n",
    "\n",
    "# 전군 공격\n",
    "for unit in attack_units:\n",
    "    unit.attack(\"1시\")\n",
    "\n",
    "# 전군피해\n",
    "for unit in attack_units:\n",
    "    unit.damaged(randint(5,20)) # 공격은 랜덤으로 받음 (5~20 사이의 값)\n",
    "\n",
    "# 게임 종료\n",
    "game_over()"
   ]
  },
  {
   "cell_type": "code",
   "execution_count": 3,
   "id": "e7080956",
   "metadata": {},
   "outputs": [
    {
     "name": "stdout",
     "output_type": "stream",
     "text": [
      "yamada\n"
     ]
    }
   ],
   "source": [
    "# 클래스 이해\n",
    "\n",
    "class MyStatus:\n",
    "    def __init__(self,age,name,height,weight):\n",
    "        self.age = age\n",
    "        self.name = name\n",
    "        self.height = height\n",
    "        self.weight = weight\n",
    "    def print_name(self):\n",
    "        print(self.name)\n",
    "    def print_age(self):\n",
    "        print(self.age) \n",
    "    def print_height(self):\n",
    "        print(self.height)\n",
    "    def print_weight(self):\n",
    "        print(self.weight)\n",
    "        \n",
    "a = MyStatus(34,\"yamada\",170,78)\n",
    "a.print_name()\n",
    "class abd:\n",
    "    def __init__(self, age, name):\n",
    "        print(self)\n"
   ]
  },
  {
   "cell_type": "code",
   "execution_count": 12,
   "id": "58e86a6c",
   "metadata": {},
   "outputs": [
    {
     "name": "stdout",
     "output_type": "stream",
     "text": [
      "총 3대의 매물이 있습니다.\n",
      "강남 아파트 매매 10억 2010년\n",
      "마포 오피스텔 전세 5억 2007년\n",
      "송파 빌라 월세 500/50 2000년\n",
      "[<__main__.house object at 0x000001BEB4C682E0>, <__main__.house object at 0x000001BEB4C680D0>, <__main__.house object at 0x000001BEB4C68160>]\n"
     ]
    }
   ],
   "source": [
    "class house:\n",
    "    # 매물 초기화\n",
    "    def __init__(self, location, house_type, deal_type, price, completion_year):\n",
    "        self.locaiton = location\n",
    "        self.house_type = house_type\n",
    "        self.deal_type = deal_type\n",
    "        self.price = price\n",
    "        self.completion_year = completion_year\n",
    "        pass\n",
    "\n",
    "    # 매물 정보 표시\n",
    "    def show_detail(self):\n",
    "        print(self.locaiton, self.house_type, self.deal_type, self.price, self.completion_year)\n",
    "        pass\n",
    "\n",
    "houses = []\n",
    "house1 = house(\"강남\", \"아파트\",\"매매\",\"10억\",\"2010년\")\n",
    "house2 = house(\"마포\", \"오피스텔\", \"전세\", \"5억\", \"2007년\")\n",
    "house3 = house(\"송파\", \"빌라\",\"월세\", \"500/50\", \"2000년\")\n",
    "\n",
    "houses.append(house1)\n",
    "houses.append(house2)\n",
    "houses.append(house3)\n",
    "\n",
    "\n",
    "print(\"총 {0}대의 매물이 있습니다.\".format(len(houses)))\n",
    "for B in houses:\n",
    "    B.show_detail()\n",
    "\n",
    "# print(str(houses))\n"
   ]
  },
  {
   "cell_type": "code",
   "execution_count": 6,
   "id": "e2d3f5eb",
   "metadata": {},
   "outputs": [
    {
     "name": "stdout",
     "output_type": "stream",
     "text": [
      "나누기 전용 계산기입니다.\n",
      "6 / 11 = 0\n"
     ]
    }
   ],
   "source": [
    "# 10-1 예외처리\n",
    "try: # 예외처리방법은 try: 후 명령을 수행할 줄을 모두 tab으로 넣어줌\n",
    "    print(\"나누기 전용 계산기입니다.\")\n",
    "    nums = []\n",
    "    nums.append(int(input(\"첫 번째 숫자를 입력하세요.\")))\n",
    "    nums.append(int(input(\"두 번째 숫자를 입력하세요.\")))\n",
    "    # nums.append(int(nums[0] / nums[1])) # 만약 nums의 [2]번째 숫자를 처리 안 했을 때\n",
    "    print(\"{0} / {1} = {2}\".format(nums[0], nums[1], nums[2]))\n",
    "except ValueError:\n",
    "    print(\"에러! 잘못된 값을 입력하였습니다.\")\n",
    "except ZeroDivisionError as err:\n",
    "    print(err)\n",
    "except Exception as a: # 이런 경우에는 위에있는 에러값들 외에 나온 에러들을 반환 시켜줌. Exception as err:은 예외값은 err로 반환해줌\n",
    "        print(\"알 수 없는 에러가 발생하였습니다.\")\n",
    "        print(a)"
   ]
  },
  {
   "cell_type": "code",
   "execution_count": 33,
   "id": "4e88f9da",
   "metadata": {},
   "outputs": [
    {
     "name": "stdout",
     "output_type": "stream",
     "text": [
      "한 자리 숫자 나누기 전용 계산기입니다.\n",
      "에러가 발생하였습니다. 한 자리 숫자만 입력하세요.\n",
      "입력값 : 10, 5\n"
     ]
    }
   ],
   "source": [
    "# 10-2 에러 발생시키기, 10-3 사용자 정의 에러\n",
    "class BigNumberError(Exception):\n",
    "    def __init__(self, msg):\n",
    "        self.msg = msg\n",
    "\n",
    "    def __str__(self):\n",
    "        return self.msg # 이 때 raise BigNumberError에 출력할 구문을 입력함.\n",
    "\n",
    "try:\n",
    "    print(\"한 자리 숫자 나누기 전용 계산기입니다.\")\n",
    "    num1 = int(input(\"첫 번째 숫자를 입력하세요 : \"))\n",
    "    num2 = int(input(\"두 번째 숫자를 입력하세요 : \"))\n",
    "    if num1 >= 10 or num2 >= 10:\n",
    "        raise BigNumberError(\"입력값 : {0}, {1}\".format(num1,num2)) # 이 때 Except Bignumbererror 뒤에 as err:로 받아줌, Error 발생 시 raise bignumbererror ()에 들어간 메세지를 self.msg로 던져주고 17번으로 갈 때 A라는 변수로 들어감\n",
    "    print(\"{0} / {1} = {2}\".format(num1, num2, int(num1/num2)))\n",
    "except ValueError:\n",
    "    print(\"잘못된 값을 입력하였습니다. 한 자리 숫자만 입력하세요.\")\n",
    "except BigNumberError as a:\n",
    "    print(\"에러가 발생하였습니다. 한 자리 숫자만 입력하세요.\")\n",
    "    print(a)\n"
   ]
  },
  {
   "cell_type": "code",
   "execution_count": 2,
   "id": "c2f12fdc",
   "metadata": {},
   "outputs": [
    {
     "name": "stdout",
     "output_type": "stream",
     "text": [
      "한 자리 숫자 나누기 전용 계산기입니다.\n",
      "에러가 발생하였습니다. 한 자리 숫자만 입력하세요.\n",
      "입력값 : 10, 5\n",
      "계산기를 사용해주셔서 감사합니다.\n"
     ]
    }
   ],
   "source": [
    "# 10-4 finally\n",
    "\n",
    "class BigNumberError(Exception):\n",
    "    def __init__(self, msg):\n",
    "        self.msg = msg\n",
    "\n",
    "    def __str__(self):\n",
    "        return self.msg # 이 때 raise BigNumberError에 출력할 구문을 입력함.\n",
    "\n",
    "try:\n",
    "    print(\"한 자리 숫자 나누기 전용 계산기입니다.\")\n",
    "    num1 = int(input(\"첫 번째 숫자를 입력하세요 : \"))\n",
    "    num2 = int(input(\"두 번째 숫자를 입력하세요 : \"))\n",
    "    if num1 >= 10 or num2 >= 10:\n",
    "        raise BigNumberError(\"입력값 : {0}, {1}\".format(num1,num2)) # 이 때 Except Bignumbererror 뒤에 as err:로 받아줌, Error 발생 시 raise bignumbererror ()에 들어간 메세지를 self.msg로 던져주고 17번으로 갈 때 A라는 변수로 들어감\n",
    "    print(\"{0} / {1} = {2}\".format(num1, num2, int(num1/num2)))\n",
    "except ValueError:\n",
    "    print(\"잘못된 값을 입력하였습니다. 한 자리 숫자만 입력하세요.\")\n",
    "except BigNumberError as a:\n",
    "    print(\"에러가 발생하였습니다. 한 자리 숫자만 입력하세요.\")\n",
    "    print(a)\n",
    "finally: # try문의 마지막에 쓸 수 있음\n",
    "    print(\"계산기를 사용해주셔서 감사합니다.\")"
   ]
  },
  {
   "cell_type": "code",
   "execution_count": 1,
   "id": "7c4c1961",
   "metadata": {},
   "outputs": [
    {
     "name": "stdout",
     "output_type": "stream",
     "text": [
      "[남은 치킨] : 10\n",
      "[대기번호 1] 3마리 치킨이 완성되었습니다.\n",
      "[남은 치킨] : 7\n",
      "[대기번호 2] 2마리 치킨이 완성되었습니다.\n",
      "[남은 치킨] : 5\n",
      "[대기번호 3] 2마리 치킨이 완성되었습니다.\n",
      "[남은 치킨] : 3\n",
      "[대기번호 4] 2마리 치킨이 완성되었습니다.\n",
      "[남은 치킨] : 1\n",
      "재료가 부족합니다.\n",
      "[남은 치킨] : 1\n",
      "재료가 부족합니다.\n",
      "[남은 치킨] : 1\n"
     ]
    },
    {
     "ename": "KeyboardInterrupt",
     "evalue": "Interrupted by user",
     "output_type": "error",
     "traceback": [
      "\u001b[1;31m---------------------------------------------------------------------------\u001b[0m",
      "\u001b[1;31mKeyboardInterrupt\u001b[0m                         Traceback (most recent call last)",
      "\u001b[1;32m~\\AppData\\Local\\Temp/ipykernel_42440/4207767604.py\u001b[0m in \u001b[0;36m<module>\u001b[1;34m\u001b[0m\n\u001b[0;32m     19\u001b[0m     \u001b[1;32mtry\u001b[0m\u001b[1;33m:\u001b[0m\u001b[1;33m\u001b[0m\u001b[1;33m\u001b[0m\u001b[0m\n\u001b[0;32m     20\u001b[0m         \u001b[0mprint\u001b[0m\u001b[1;33m(\u001b[0m\u001b[1;34m\"[남은 치킨] : {0}\"\u001b[0m\u001b[1;33m.\u001b[0m\u001b[0mformat\u001b[0m\u001b[1;33m(\u001b[0m\u001b[0mchicken\u001b[0m\u001b[1;33m)\u001b[0m\u001b[1;33m)\u001b[0m\u001b[1;33m\u001b[0m\u001b[1;33m\u001b[0m\u001b[0m\n\u001b[1;32m---> 21\u001b[1;33m         \u001b[0morder\u001b[0m \u001b[1;33m=\u001b[0m \u001b[0mint\u001b[0m\u001b[1;33m(\u001b[0m\u001b[0minput\u001b[0m\u001b[1;33m(\u001b[0m\u001b[1;34m\"치킨 몇 마리를 주문하시겠습니까?\"\u001b[0m\u001b[1;33m)\u001b[0m\u001b[1;33m)\u001b[0m\u001b[1;33m\u001b[0m\u001b[1;33m\u001b[0m\u001b[0m\n\u001b[0m\u001b[0;32m     22\u001b[0m         \u001b[1;32mif\u001b[0m \u001b[0morder\u001b[0m \u001b[1;33m>\u001b[0m \u001b[0mchicken\u001b[0m\u001b[1;33m:\u001b[0m\u001b[1;33m\u001b[0m\u001b[1;33m\u001b[0m\u001b[0m\n\u001b[0;32m     23\u001b[0m             \u001b[0mprint\u001b[0m\u001b[1;33m(\u001b[0m\u001b[1;34m\"재료가 부족합니다.\"\u001b[0m\u001b[1;33m)\u001b[0m\u001b[1;33m\u001b[0m\u001b[1;33m\u001b[0m\u001b[0m\n",
      "\u001b[1;32md:\\anaconda\\lib\\site-packages\\ipykernel\\kernelbase.py\u001b[0m in \u001b[0;36mraw_input\u001b[1;34m(self, prompt)\u001b[0m\n\u001b[0;32m   1004\u001b[0m                 \u001b[1;34m\"raw_input was called, but this frontend does not support input requests.\"\u001b[0m\u001b[1;33m\u001b[0m\u001b[1;33m\u001b[0m\u001b[0m\n\u001b[0;32m   1005\u001b[0m             )\n\u001b[1;32m-> 1006\u001b[1;33m         return self._input_request(\n\u001b[0m\u001b[0;32m   1007\u001b[0m             \u001b[0mstr\u001b[0m\u001b[1;33m(\u001b[0m\u001b[0mprompt\u001b[0m\u001b[1;33m)\u001b[0m\u001b[1;33m,\u001b[0m\u001b[1;33m\u001b[0m\u001b[1;33m\u001b[0m\u001b[0m\n\u001b[0;32m   1008\u001b[0m             \u001b[0mself\u001b[0m\u001b[1;33m.\u001b[0m\u001b[0m_parent_ident\u001b[0m\u001b[1;33m[\u001b[0m\u001b[1;34m\"shell\"\u001b[0m\u001b[1;33m]\u001b[0m\u001b[1;33m,\u001b[0m\u001b[1;33m\u001b[0m\u001b[1;33m\u001b[0m\u001b[0m\n",
      "\u001b[1;32md:\\anaconda\\lib\\site-packages\\ipykernel\\kernelbase.py\u001b[0m in \u001b[0;36m_input_request\u001b[1;34m(self, prompt, ident, parent, password)\u001b[0m\n\u001b[0;32m   1049\u001b[0m             \u001b[1;32mexcept\u001b[0m \u001b[0mKeyboardInterrupt\u001b[0m\u001b[1;33m:\u001b[0m\u001b[1;33m\u001b[0m\u001b[1;33m\u001b[0m\u001b[0m\n\u001b[0;32m   1050\u001b[0m                 \u001b[1;31m# re-raise KeyboardInterrupt, to truncate traceback\u001b[0m\u001b[1;33m\u001b[0m\u001b[1;33m\u001b[0m\u001b[0m\n\u001b[1;32m-> 1051\u001b[1;33m                 \u001b[1;32mraise\u001b[0m \u001b[0mKeyboardInterrupt\u001b[0m\u001b[1;33m(\u001b[0m\u001b[1;34m\"Interrupted by user\"\u001b[0m\u001b[1;33m)\u001b[0m \u001b[1;32mfrom\u001b[0m \u001b[1;32mNone\u001b[0m\u001b[1;33m\u001b[0m\u001b[1;33m\u001b[0m\u001b[0m\n\u001b[0m\u001b[0;32m   1052\u001b[0m             \u001b[1;32mexcept\u001b[0m \u001b[0mException\u001b[0m\u001b[1;33m:\u001b[0m\u001b[1;33m\u001b[0m\u001b[1;33m\u001b[0m\u001b[0m\n\u001b[0;32m   1053\u001b[0m                 \u001b[0mself\u001b[0m\u001b[1;33m.\u001b[0m\u001b[0mlog\u001b[0m\u001b[1;33m.\u001b[0m\u001b[0mwarning\u001b[0m\u001b[1;33m(\u001b[0m\u001b[1;34m\"Invalid Message:\"\u001b[0m\u001b[1;33m,\u001b[0m \u001b[0mexc_info\u001b[0m\u001b[1;33m=\u001b[0m\u001b[1;32mTrue\u001b[0m\u001b[1;33m)\u001b[0m\u001b[1;33m\u001b[0m\u001b[1;33m\u001b[0m\u001b[0m\n",
      "\u001b[1;31mKeyboardInterrupt\u001b[0m: Interrupted by user"
     ]
    }
   ],
   "source": [
    "# 10-5 퀴즈 #9\n",
    "\n",
    "# 동네에 항상 대기 손님이 있는 치킨집이 있습니다.\n",
    "# 대기 손님의 치킨 요리 시간을 줄이고자 자동 주문 시스템을 도입하였습니다.\n",
    "# 시스템 코드를 확인하고 적절한 예외처리 구문을 넣으시오.\n",
    "\n",
    "# 조건1 : 1보다 작거나 숫자가 아닌 입력값이 들어올때는 ValueError로 처리\n",
    "# 출력 메세지 : \"잘못된 값을 입력하였습니다.\"\n",
    "# 조건2 : 대기 손님이 주문할 수 있는 총 치킨량은 10마리로 한정\n",
    "# 치킨 소진 시 사용제 정의 에러[SoldOutError]를 발생시키고 프로그램 종료\n",
    "# 출력 메세지 : \"재고가 소진되어 더 이상 주문을 받지 않습니다.\"\n",
    "\n",
    "class SoldOutError(Exception):\n",
    "    pass\n",
    "\n",
    "chicken = 10\n",
    "waiting = 1\n",
    "while(True):\n",
    "    try:\n",
    "        print(\"[남은 치킨] : {0}\".format(chicken))\n",
    "        order = int(input(\"치킨 몇 마리를 주문하시겠습니까?\"))\n",
    "        if order > chicken:\n",
    "            print(\"재료가 부족합니다.\")\n",
    "        elif order <= 0:\n",
    "            raise ValueError\n",
    "        else:\n",
    "            print(\"[대기번호 {0}] {1}마리 치킨이 완성되었습니다.\" \\\n",
    "                .format(waiting,order))\n",
    "            waiting += 1\n",
    "            chicken -= order\n",
    "\n",
    "        if chicken == 0:\n",
    "            raise SoldOutError\n",
    "    except ValueError: # 이 경우 문자열의 경우는 바로 오게 되어있음. 하지만 숫자 --값이나 0이 입력은 그대로 처리됨\n",
    "        print(\"잘못된 값을 입력하였습니다.\")\n",
    "    except SoldOutError:\n",
    "        print(\"재고가 소진되어 더 이상 주문을 받지 않습니다.\")\n",
    "        break"
   ]
  },
  {
   "cell_type": "code",
   "execution_count": 4,
   "id": "181f87ff",
   "metadata": {},
   "outputs": [
    {
     "name": "stdout",
     "output_type": "stream",
     "text": [
      "['__add__', '__class__', '__class_getitem__', '__contains__', '__delattr__', '__delitem__', '__dir__', '__doc__', '__eq__', '__format__', '__ge__', '__getattribute__', '__getitem__', '__gt__', '__hash__', '__iadd__', '__imul__', '__init__', '__init_subclass__', '__iter__', '__le__', '__len__', '__lt__', '__mul__', '__ne__', '__new__', '__reduce__', '__reduce_ex__', '__repr__', '__reversed__', '__rmul__', '__setattr__', '__setitem__', '__sizeof__', '__str__', '__subclasshook__', 'append', 'clear', 'copy', 'count', 'extend', 'index', 'insert', 'pop', 'remove', 'reverse', 'sort']\n"
     ]
    }
   ],
   "source": [
    "# 11-7 내장함수\n",
    "# dir : 어떤 객체를 넘겨줬을 때 그 객체가 어떤 변수와 함수를 가지고 있는 표시\n",
    "# print(dir())\n",
    "# import random # 외장함수\n",
    "# print(dir())\n",
    "# print(dir(random)) # random 모듈에서 쓸 수 있는 변수들을 모두 표시, random.을 찍었을 때 나오는 것들과 동일\n",
    "\n",
    "lst = [1,2,3]\n",
    "print(dir(lst)) # lst에서 사용할 수 있는 함수를 표시"
   ]
  },
  {
   "cell_type": "code",
   "execution_count": 2,
   "id": "cee308bf",
   "metadata": {},
   "outputs": [
    {
     "name": "stdout",
     "output_type": "stream",
     "text": [
      "우리가 만난지 100일은 2022-10-08\n"
     ]
    }
   ],
   "source": [
    "# 11-8 외장함수\n",
    "# glob : 경로 내의 폴더 / 파일 목록 조회 (윈도우 dir)\n",
    "# import glob\n",
    "# print(glob.glob(\"*.py\")) # 확장자가 py인 모든 파일\n",
    "\n",
    "# os : 운영체제에서 제공하는 기본 기능\n",
    "import os\n",
    "# print(os.getcwd())\n",
    "\n",
    "# folder = \"sample_dir\"\n",
    "# if os.path.exists(folder):\n",
    "#     print(\"이미 존재하는 폴더입니다.\")\n",
    "#     os.rmdir(folder)\n",
    "#     print(folder, \"폴더를 삭제하였습니다.\")\n",
    "# else:\n",
    "#     os.makedirs(folder) # 폴더 생성\n",
    "#     print(folder, \"폴더를 생성하였습니다.\")\n",
    "\n",
    "# print(os.listdir())\n",
    "\n",
    "# time : 시간 관련 함수\n",
    "# import time\n",
    "# print(time.localtime())\n",
    "# print(time.strftime(\"%y-%m-%d %H:%M:%S\"))\n",
    "\n",
    "import datetime\n",
    "# print(\"오늘 날짜는\", datetime.date.today())\n",
    "# timedelta : 두 날짜 사이의 간격\n",
    "today = datetime.date.today() # 오늘날짜 저장\n",
    "td = datetime.timedelta(days=100) # 100일 저장\n",
    "print(\"우리가 만난지 100일은\", today + td) # 오늘부터 100일 뒤"
   ]
  },
  {
   "cell_type": "code",
   "execution_count": 1,
   "id": "eda8269c",
   "metadata": {},
   "outputs": [
    {
     "ename": "ModuleNotFoundError",
     "evalue": "No module named 'byme'",
     "output_type": "error",
     "traceback": [
      "\u001b[1;31m---------------------------------------------------------------------------\u001b[0m",
      "\u001b[1;31mModuleNotFoundError\u001b[0m                       Traceback (most recent call last)",
      "\u001b[1;32m~\\AppData\\Local\\Temp/ipykernel_30340/1648994123.py\u001b[0m in \u001b[0;36m<module>\u001b[1;34m\u001b[0m\n\u001b[0;32m      4\u001b[0m \u001b[1;33m\u001b[0m\u001b[0m\n\u001b[0;32m      5\u001b[0m \u001b[1;31m# (모듈사용 예제)\u001b[0m\u001b[1;33m\u001b[0m\u001b[1;33m\u001b[0m\u001b[0m\n\u001b[1;32m----> 6\u001b[1;33m \u001b[1;32mimport\u001b[0m \u001b[0mbyme\u001b[0m\u001b[1;33m\u001b[0m\u001b[1;33m\u001b[0m\u001b[0m\n\u001b[0m\u001b[0;32m      7\u001b[0m \u001b[0mbyme\u001b[0m\u001b[1;33m.\u001b[0m\u001b[0msign\u001b[0m\u001b[1;33m(\u001b[0m\u001b[1;33m)\u001b[0m\u001b[1;33m\u001b[0m\u001b[1;33m\u001b[0m\u001b[0m\n\u001b[0;32m      8\u001b[0m \u001b[1;33m\u001b[0m\u001b[0m\n",
      "\u001b[1;31mModuleNotFoundError\u001b[0m: No module named 'byme'"
     ]
    }
   ],
   "source": [
    "# 11-9 퀴즈#10\n",
    "# 프로젝트 내에 나만의 시그니처를 남기는 모듈\n",
    "# 조건 : 모든 파일명은 byme.py로 작성\n",
    "\n",
    "# (모듈사용 예제)\n",
    "import byme\n",
    "byme.sign()\n",
    "\n",
    "# (출력 예제)\n",
    "# 이 프로그램은 이상필에 의해 만들어졌습니다.\n",
    "# 메일주소 : k@gmail.com\n",
    "\n"
   ]
  }
 ],
 "metadata": {
  "interpreter": {
   "hash": "5179d32cf6ec497baf3f8a3ef987cc77c5d2dc691fdde20a56316522f61a7323"
  },
  "kernelspec": {
   "display_name": "Python 3 (ipykernel)",
   "language": "python",
   "name": "python3"
  },
  "language_info": {
   "codemirror_mode": {
    "name": "ipython",
    "version": 3
   },
   "file_extension": ".py",
   "mimetype": "text/x-python",
   "name": "python",
   "nbconvert_exporter": "python",
   "pygments_lexer": "ipython3",
   "version": "3.9.7"
  }
 },
 "nbformat": 4,
 "nbformat_minor": 5
}
